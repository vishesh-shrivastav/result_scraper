{
 "cells": [
  {
   "cell_type": "code",
   "execution_count": 68,
   "metadata": {
    "collapsed": true
   },
   "outputs": [],
   "source": [
    "import mechanize\n",
    "from bs4 import BeautifulSoup\n",
    "from twilio.rest import TwilioRestClient"
   ]
  },
  {
   "cell_type": "code",
   "execution_count": 69,
   "metadata": {
    "collapsed": true
   },
   "outputs": [],
   "source": [
    "# Initialise browser object\n",
    "br = mechanize.Browser()"
   ]
  },
  {
   "cell_type": "code",
   "execution_count": 90,
   "metadata": {},
   "outputs": [
    {
     "data": {
      "text/plain": [
       "<response_seek_wrapper at 0x701a108L whose wrapped object = <closeable_response at 0x7296908L whose fp = <socket._fileobject object at 0x0000000006CD0C00>>>"
      ]
     },
     "execution_count": 90,
     "metadata": {},
     "output_type": "execute_result"
    }
   ],
   "source": [
    "# Open UMN's application link\n",
    "br.open(\"https://app.applyyourself.com/AYApplicantLogin/fl_ApplicantConnectLogin.asp?id=UMN-GRAD\")"
   ]
  },
  {
   "cell_type": "code",
   "execution_count": 71,
   "metadata": {
    "collapsed": true
   },
   "outputs": [],
   "source": [
    "# Select and fill the form using my credentials\n",
    "br.select_form(nr=0)\n",
    "br['UserID'] = 'myusername' # not the real one\n",
    "br['Password'] = 'mypassword' # not the real one"
   ]
  },
  {
   "cell_type": "code",
   "execution_count": 74,
   "metadata": {
    "collapsed": true
   },
   "outputs": [],
   "source": [
    "# Get result of form submission\n",
    "result = br.submit().read()"
   ]
  },
  {
   "cell_type": "code",
   "execution_count": 75,
   "metadata": {
    "collapsed": true
   },
   "outputs": [],
   "source": [
    "# Extract application status\n",
    "soup = BeautifulSoup(result,\"lxml\")\n",
    "body_tag = soup.body\n",
    "all_h4 = soup.find_all('h4')\n",
    "current_result_status = all_h4[1].text\n",
    "print current_result_status"
   ]
  },
  {
   "cell_type": "code",
   "execution_count": 80,
   "metadata": {
    "collapsed": true
   },
   "outputs": [],
   "source": [
    "# Use Twilio's API to send application status to my phone\n",
    "sid = \"****\"\n",
    "auth_token = \"****\"\n",
    "client = TwilioRestClient(sid, auth_token)"
   ]
  },
  {
   "cell_type": "code",
   "execution_count": 82,
   "metadata": {
    "collapsed": true
   },
   "outputs": [],
   "source": [
    "# Create and send message\n",
    "msg_body = \"Current result status: \" + current_result_status\n",
    "msg = client.messages.create(to=\"+917838134018\", from_=\"+17084067248\", body= msg_body)"
   ]
  }
 ],
 "metadata": {
  "kernelspec": {
   "display_name": "Python 3",
   "language": "python",
   "name": "python3"
  },
  "language_info": {
   "codemirror_mode": {
    "name": "ipython",
    "version": 3
   },
   "file_extension": ".py",
   "mimetype": "text/x-python",
   "name": "python",
   "nbconvert_exporter": "python",
   "pygments_lexer": "ipython3",
   "version": "3.6.2"
  }
 },
 "nbformat": 4,
 "nbformat_minor": 1
}
